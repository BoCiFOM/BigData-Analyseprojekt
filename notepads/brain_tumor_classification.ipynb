{
 "cells": [
  {
   "cell_type": "code",
   "execution_count": 13,
   "id": "ba017a64-b8a9-43ea-847c-9a20d1c5d4b9",
   "metadata": {},
   "outputs": [],
   "source": [
    "import os\n",
    "import matplotlib.pyplot as plt\n",
    "import cv2\n",
    "import pandas as pd\n",
    "from tqdm.notebook import tqdm\n",
    "import numpy as np\n",
    "import shutil\n",
    "from PIL import Image\n",
    "import scipy\n",
    "import torch \n",
    "import torchvision\n",
    "import torchvision.transforms as transforms\n",
    "from torchvision import models , datasets\n",
    "import torch.nn as nn\n",
    "import torch.optim as optim\n",
    "from torch.optim import lr_scheduler\n",
    "import time\n",
    "import copy"
   ]
  },
  {
   "cell_type": "code",
   "execution_count": 17,
   "id": "63bc9610-d940-4942-a51d-8e2cd333df39",
   "metadata": {},
   "outputs": [],
   "source": [
    "labels = pd.read_csv(\"data/input/train_labels.csv\")"
   ]
  },
  {
   "cell_type": "code",
   "execution_count": 18,
   "id": "a24502df-cd38-4875-8dd3-56ffe1f8340b",
   "metadata": {},
   "outputs": [
    {
     "data": {
      "application/vnd.jupyter.widget-view+json": {
       "model_id": "cdf3eeb4824c4a5d98d6ba4537bec116",
       "version_major": 2,
       "version_minor": 0
      },
      "text/plain": [
       "  0%|          | 0/582 [00:00<?, ?it/s]"
      ]
     },
     "metadata": {},
     "output_type": "display_data"
    }
   ],
   "source": [
    "main_folder_path = \"data/input/png_data/png_voxel_converted_ds\"\n",
    "main_train_folder_path = os.path.join(main_folder_path  , \"train\")\n",
    "for subject in tqdm(os.listdir(main_train_folder_path)):\n",
    "    subject_folder = os.path.join(main_train_folder_path , subject)\n",
    "    for mri_type in os.listdir(subject_folder):\n",
    "        mri_type_folder = os.path.join(subject_folder , mri_type)\n",
    "        for mri_image in os.listdir(mri_type_folder):\n",
    "            original_image_path = os.path.join(mri_type_folder , mri_image)\n",
    "            mri_image = subject +\"_\"+ mri_type +\"_\"+ mri_image\n",
    "            subject_num = int(subject)\n",
    "            idx = np.where(labels['BraTS21ID'] == subject_num)[0][0]\n",
    "            label = str(labels.loc[idx , 'MGMT_value'])\n",
    "            new_image_folder_path =os.path.join(\"data/input\" , label)\n",
    "            new_image_path = os.path.join(new_image_folder_path , mri_image)\n",
    "            shutil.copy(original_image_path , new_image_path)"
   ]
  },
  {
   "cell_type": "code",
   "execution_count": 19,
   "id": "b7320d7b-88fa-4660-9ec2-9bed20c0b8d5",
   "metadata": {},
   "outputs": [
    {
     "name": "stdout",
     "output_type": "stream",
     "text": [
      "Images with label 0 =  39744 Images with label 1 =  44064\n"
     ]
    }
   ],
   "source": [
    "print(\"Images with label 0 = \" , len(os.listdir(\"data/input/0\")) , \"Images with label 1 = \" , len(os.listdir(\"data/input/1\")))"
   ]
  },
  {
   "cell_type": "code",
   "execution_count": 20,
   "id": "8cfb1110-a73d-4233-b1f9-314402f81ec2",
   "metadata": {},
   "outputs": [
    {
     "data": {
      "application/vnd.jupyter.widget-view+json": {
       "model_id": "c375246dd24d4eed9260632bf894b046",
       "version_major": 2,
       "version_minor": 0
      },
      "text/plain": [
       "  0%|          | 0/39744 [00:00<?, ?it/s]"
      ]
     },
     "metadata": {},
     "output_type": "display_data"
    },
    {
     "data": {
      "application/vnd.jupyter.widget-view+json": {
       "model_id": "729a3aa412fb4dd5b152821d0893d8ee",
       "version_major": 2,
       "version_minor": 0
      },
      "text/plain": [
       "  0%|          | 0/44064 [00:00<?, ?it/s]"
      ]
     },
     "metadata": {},
     "output_type": "display_data"
    },
    {
     "ename": "NotADirectoryError",
     "evalue": "[WinError 267] Der Verzeichnisname ist ungültig: 'data/input/archive (7).zip'",
     "output_type": "error",
     "traceback": [
      "\u001b[1;31m---------------------------------------------------------------------------\u001b[0m",
      "\u001b[1;31mNotADirectoryError\u001b[0m                        Traceback (most recent call last)",
      "\u001b[1;32m~\\AppData\\Local\\Temp/ipykernel_18368/4187909421.py\u001b[0m in \u001b[0;36m<module>\u001b[1;34m\u001b[0m\n\u001b[0;32m      2\u001b[0m     \u001b[0mfolder_name\u001b[0m \u001b[1;33m=\u001b[0m \u001b[0mstr\u001b[0m\u001b[1;33m(\u001b[0m\u001b[0mfolder\u001b[0m\u001b[1;33m)\u001b[0m\u001b[1;33m\u001b[0m\u001b[1;33m\u001b[0m\u001b[0m\n\u001b[0;32m      3\u001b[0m     \u001b[0mpath\u001b[0m \u001b[1;33m=\u001b[0m \u001b[1;34m\"data/input/\"\u001b[0m\u001b[1;33m+\u001b[0m\u001b[0mfolder_name\u001b[0m\u001b[1;33m\u001b[0m\u001b[1;33m\u001b[0m\u001b[0m\n\u001b[1;32m----> 4\u001b[1;33m     \u001b[1;32mfor\u001b[0m \u001b[0mfile\u001b[0m \u001b[1;32min\u001b[0m \u001b[0mtqdm\u001b[0m\u001b[1;33m(\u001b[0m\u001b[0mos\u001b[0m\u001b[1;33m.\u001b[0m\u001b[0mlistdir\u001b[0m\u001b[1;33m(\u001b[0m\u001b[0mpath\u001b[0m\u001b[1;33m)\u001b[0m\u001b[1;33m)\u001b[0m\u001b[1;33m:\u001b[0m\u001b[1;33m\u001b[0m\u001b[1;33m\u001b[0m\u001b[0m\n\u001b[0m\u001b[0;32m      5\u001b[0m         \u001b[0mimg\u001b[0m \u001b[1;33m=\u001b[0m \u001b[0mImage\u001b[0m\u001b[1;33m.\u001b[0m\u001b[0mopen\u001b[0m\u001b[1;33m(\u001b[0m\u001b[0mpath\u001b[0m \u001b[1;33m+\u001b[0m \u001b[1;34m'/'\u001b[0m \u001b[1;33m+\u001b[0m \u001b[0mfile\u001b[0m\u001b[1;33m)\u001b[0m\u001b[1;33m\u001b[0m\u001b[1;33m\u001b[0m\u001b[0m\n\u001b[0;32m      6\u001b[0m         \u001b[0mclrs\u001b[0m \u001b[1;33m=\u001b[0m \u001b[0mimg\u001b[0m\u001b[1;33m.\u001b[0m\u001b[0mgetcolors\u001b[0m\u001b[1;33m(\u001b[0m\u001b[1;33m)\u001b[0m\u001b[1;33m\u001b[0m\u001b[1;33m\u001b[0m\u001b[0m\n",
      "\u001b[1;31mNotADirectoryError\u001b[0m: [WinError 267] Der Verzeichnisname ist ungültig: 'data/input/archive (7).zip'"
     ]
    }
   ],
   "source": [
    "for folder in os.listdir(\"data/input\"):\n",
    "    folder_name = str(folder)\n",
    "    path = \"data/input/\"+folder_name\n",
    "    for file in tqdm(os.listdir(path)):\n",
    "        img = Image.open(path + '/' + file)\n",
    "        clrs = img.getcolors()\n",
    "        if len(clrs) == 1:\n",
    "            os.remove(path + '/' + file)"
   ]
  },
  {
   "cell_type": "code",
   "execution_count": 21,
   "id": "8f4657dd-3e6a-4aa9-9aa1-d4d6f946d53f",
   "metadata": {},
   "outputs": [
    {
     "name": "stdout",
     "output_type": "stream",
     "text": [
      "Images with label 0 =  31324 Images with label 1 =  34108\n"
     ]
    }
   ],
   "source": [
    "print(\"Images with label 0 = \" , len(os.listdir(\"data/input/0\")) , \"Images with label 1 = \" , len(os.listdir(\"data/input/1\")))"
   ]
  },
  {
   "cell_type": "code",
   "execution_count": 22,
   "id": "edd256c9-5826-4099-8037-ce2728e35142",
   "metadata": {},
   "outputs": [],
   "source": [
    "!mkdir \"data/input/TRAIN\"\n",
    "!mkdir \"data/input/TRAIN/1\"\n",
    "!mkdir \"data/input/TRAIN/0\"\n",
    "!mkdir \"data/input/VAL\"\n",
    "!mkdir \"data/input/VAL/0\"\n",
    "!mkdir \"data/input/VAL/1\"\n",
    "!mkdir \"data/input/TEST\"\n",
    "!mkdir \"data/input/TEST/0\"\n",
    "!mkdir \"data/input/TEST/1\""
   ]
  },
  {
   "cell_type": "code",
   "execution_count": 23,
   "id": "d01d1b19-3428-4821-8e40-b64352af1ee8",
   "metadata": {},
   "outputs": [
    {
     "data": {
      "application/vnd.jupyter.widget-view+json": {
       "model_id": "770eac832574485e84b9ff4eb2944511",
       "version_major": 2,
       "version_minor": 0
      },
      "text/plain": [
       "  0%|          | 0/2 [00:00<?, ?it/s]"
      ]
     },
     "metadata": {},
     "output_type": "display_data"
    }
   ],
   "source": [
    "IMG_PATH = \"./data/input\"\n",
    "\n",
    "#split the data into train/test/val\n",
    "for CLASS in tqdm([\"0\" , \"1\"]):\n",
    "    IMG_NUM = len(os.listdir(IMG_PATH +\"/\"+ CLASS))\n",
    "    for (n, FILE_NAME) in enumerate(os.listdir(IMG_PATH +\"/\"+ CLASS)):\n",
    "            img = IMG_PATH+ '/' +  CLASS + '/' + FILE_NAME\n",
    "            if n <4000 :\n",
    "                shutil.copy(img, 'data/input/TEST/' + str(CLASS) + '/' + FILE_NAME)\n",
    "            elif n < 0.9*IMG_NUM:\n",
    "                shutil.copy(img, 'data/input/TRAIN/'+ str(CLASS) + '/' + FILE_NAME)\n",
    "            else:\n",
    "                shutil.copy(img, 'data/input/VAL/'+ str(CLASS) + '/' + FILE_NAME)"
   ]
  },
  {
   "cell_type": "code",
   "execution_count": 27,
   "id": "7d45bf15-cc38-4eb8-884e-7013a24b2423",
   "metadata": {},
   "outputs": [
    {
     "name": "stderr",
     "output_type": "stream",
     "text": [
      "Der Befehl \"rm\" ist entweder falsch geschrieben oder\n",
      "konnte nicht gefunden werden.\n",
      "Der Befehl \"rm\" ist entweder falsch geschrieben oder\n",
      "konnte nicht gefunden werden.\n"
     ]
    }
   ],
   "source": [
    "!rm -rf \"data/input/0\"\n",
    "!rm -rf \"data/input/1\""
   ]
  },
  {
   "cell_type": "code",
   "execution_count": 28,
   "id": "0c560529-1641-47c4-9749-1cde102a543c",
   "metadata": {},
   "outputs": [
    {
     "data": {
      "text/plain": [
       "(26698, 24192, 3410, 3132, 4000, 4000)"
      ]
     },
     "execution_count": 28,
     "metadata": {},
     "output_type": "execute_result"
    }
   ],
   "source": [
    "len(os.listdir(\"data/input/TRAIN/1\")) , len(os.listdir(\"data/input/TRAIN/0\")) , len(os.listdir(\"data/input/VAL/1\")) , len(os.listdir(\"data/input/VAL/0\")) , len(os.listdir(\"data/input/TEST/1\")) , len(os.listdir(\"data/input/TEST/0\"))"
   ]
  },
  {
   "cell_type": "code",
   "execution_count": 29,
   "id": "1a5b9472-6f93-4337-b56d-a247f24ce742",
   "metadata": {},
   "outputs": [],
   "source": [
    "mean = np.array([0.485, 0.456, 0.406])\n",
    "std = np.array([0.229, 0.224, 0.225])\n",
    "\n",
    "data_transforms = {\n",
    "    'TRAIN': transforms.Compose([\n",
    "        transforms.RandomResizedCrop(224),\n",
    "        transforms.RandomHorizontalFlip(),\n",
    "        transforms.ToTensor(),\n",
    "        transforms.Normalize(mean, std)\n",
    "    ]),\n",
    "    \n",
    "    'VAL': transforms.Compose([\n",
    "        transforms.Resize(256),\n",
    "        transforms.CenterCrop(224),\n",
    "        transforms.ToTensor(),\n",
    "        transforms.Normalize(mean, std)\n",
    "    ]),\n",
    "    \n",
    "    'TEST': transforms.Compose([\n",
    "        transforms.Resize(256),\n",
    "        transforms.CenterCrop(224),\n",
    "        transforms.ToTensor(),\n",
    "        transforms.Normalize(mean, std)\n",
    "    ]),\n",
    "}"
   ]
  },
  {
   "cell_type": "code",
   "execution_count": 30,
   "id": "e7726f92-d0ff-4243-8b3e-ee44cf6057bc",
   "metadata": {},
   "outputs": [
    {
     "name": "stdout",
     "output_type": "stream",
     "text": [
      "['0', '1']\n"
     ]
    }
   ],
   "source": [
    "data_dir = 'data/input'\n",
    "image_datasets = {x: datasets.ImageFolder(os.path.join(data_dir, x),\n",
    "                                          data_transforms[x])\n",
    "                  for x in ['TRAIN', 'VAL' , 'TEST']}\n",
    "dataloaders = {x: torch.utils.data.DataLoader(image_datasets[x], batch_size=4,\n",
    "                                             shuffle=True, num_workers=0)\n",
    "              for x in ['TRAIN', 'VAL' , 'TEST']}\n",
    "dataset_sizes = {x: len(image_datasets[x]) for x in ['TRAIN', 'VAL' , 'TEST']}\n",
    "class_names = image_datasets['TRAIN'].classes\n",
    "\n",
    "device = torch.device(\"cuda:0\" if torch.cuda.is_available() else \"cpu\")\n",
    "print(class_names)"
   ]
  },
  {
   "cell_type": "code",
   "execution_count": 31,
   "id": "239a67cb-cca2-4ede-82ed-2ad18c3d5f8e",
   "metadata": {},
   "outputs": [],
   "source": [
    "mean = np.array([0.485, 0.456, 0.406])\n",
    "std = np.array([0.229, 0.224, 0.225])\n",
    "def imshow(inp, title):\n",
    "    \"\"\"Imshow for Tensor.\"\"\"\n",
    "    inp = inp.numpy().transpose((1, 2, 0))\n",
    "    inp = std * inp + mean\n",
    "    inp = np.clip(inp, 0, 1)\n",
    "    plt.imshow(inp)\n",
    "    plt.title(title)\n",
    "    plt.show()"
   ]
  },
  {
   "cell_type": "code",
   "execution_count": 32,
   "id": "46137a14-a214-4484-a230-729533563550",
   "metadata": {},
   "outputs": [
    {
     "data": {
      "image/png": "[encoded data removed]",
      "text/plain": [
       "<Figure size 432x288 with 1 Axes>"
      ]
     },
     "metadata": {
      "needs_background": "light"
     },
     "output_type": "display_data"
    }
   ],
   "source": [
    "# Get a batch of training data\n",
    "inputs, classes = next(iter(dataloaders['TRAIN']))\n",
    "\n",
    "# Make a grid from batch\n",
    "out = torchvision.utils.make_grid(inputs)\n",
    "\n",
    "imshow(out, title=[class_names[x] for x in classes])"
   ]
  },
  {
   "cell_type": "code",
   "execution_count": 33,
   "id": "7561a92f-f85d-4efb-b03c-40c38e997f3e",
   "metadata": {},
   "outputs": [],
   "source": [
    "def train_model(model, model_name, criterion, optimizer, scheduler, num_epochs=25):\n",
    "    since = time.time()\n",
    "\n",
    "    best_model_wts = copy.deepcopy(model.state_dict())\n",
    "    best_acc = 0.0\n",
    "\n",
    "    for epoch in range(num_epochs):\n",
    "        print('Epoch {}/{}'.format(epoch, num_epochs - 1))\n",
    "        print('-' * 10)\n",
    "\n",
    "        # Each epoch has a training and validation phase\n",
    "        for phase in ['TRAIN' , 'VAL']:\n",
    "            if phase == 'TRAIN':\n",
    "                model.train()  # Set model to training mode\n",
    "            elif phase == 'VAL':\n",
    "                model.eval()   # Set model to evaluate mode\n",
    "\n",
    "            running_loss = 0.0\n",
    "            running_corrects = 0\n",
    "\n",
    "            # Iterate over data.\n",
    "            for inputs, labels in dataloaders[phase]:\n",
    "                inputs = inputs.to(device)\n",
    "                labels = labels.to(device)\n",
    "\n",
    "                # forward\n",
    "                # track history if only in train\n",
    "                with torch.set_grad_enabled(phase == 'TRAIN'):\n",
    "                    outputs = model(inputs)\n",
    "                    _, preds = torch.max(outputs, 1)\n",
    "                    loss = criterion(outputs, labels)\n",
    "\n",
    "                    # backward + optimize only if in training phase\n",
    "                    if phase == 'TRAIN':\n",
    "                        optimizer.zero_grad()\n",
    "                        loss.backward()\n",
    "                        optimizer.step()\n",
    "\n",
    "                # statistics\n",
    "                running_loss += loss.item() * inputs.size(0)\n",
    "                running_corrects += torch.sum(preds == labels.data)\n",
    "\n",
    "            if phase == 'TRAIN':\n",
    "                scheduler.step()\n",
    "\n",
    "            epoch_loss = running_loss / dataset_sizes[phase]\n",
    "            epoch_acc = running_corrects.double() / dataset_sizes[phase]\n",
    "\n",
    "            print('{} Loss: {:.4f} Acc: {:.4f}'.format(\n",
    "                phase, epoch_loss, epoch_acc))\n",
    "\n",
    "            # deep copy the model\n",
    "            if phase == 'VAL' and epoch_acc > best_acc:\n",
    "                best_acc = epoch_acc\n",
    "                #save the best model\n",
    "                torch.save(model , model_name+'weights.pt')\n",
    "\n",
    "        print()\n",
    "\n",
    "    time_elapsed = time.time() - since\n",
    "    print('Training complete in {:.0f}m {:.0f}s'.format(\n",
    "        time_elapsed // 60, time_elapsed % 60))\n",
    "    print('Best val Acc: {:4f}'.format(best_acc))"
   ]
  },
  {
   "cell_type": "markdown",
   "id": "11dd8d83-58ba-4940-bc61-8327cc6f6404",
   "metadata": {},
   "source": [
    "Transfer Learning"
   ]
  },
  {
   "cell_type": "markdown",
   "id": "bbab0e9d-e1ef-4fb9-8ecf-4568fd690105",
   "metadata": {},
   "source": [
    "Resnet 18"
   ]
  },
  {
   "cell_type": "code",
   "execution_count": 37,
   "id": "21a966dd-d89d-4703-96c8-918c335e706b",
   "metadata": {},
   "outputs": [],
   "source": [
    "resnet = models.resnet18(pretrained=True)\n",
    "num_ftrs = resnet.fc.in_features\n",
    "\n",
    "resnet.fc = nn.Linear(num_ftrs, 2)\n",
    "resnet = resnet.to(device)\n",
    "criterion = nn.CrossEntropyLoss()\n",
    "\n",
    "# Observe that all parameters are being optimized\n",
    "optimizer = optim.SGD(resnet.parameters(), lr=0.001)\n",
    "\n",
    "step_lr_scheduler = lr_scheduler.StepLR(optimizer, step_size=7, gamma=0.1)"
   ]
  },
  {
   "cell_type": "code",
   "execution_count": 38,
   "id": "528326bb-b992-4a24-a93b-dcf4973ef8ba",
   "metadata": {},
   "outputs": [
    {
     "name": "stdout",
     "output_type": "stream",
     "text": [
      "Epoch 0/0\n",
      "----------\n",
      "TRAIN Loss: 0.7121 Acc: 0.5146\n",
      "VAL Loss: 0.7649 Acc: 0.4807\n",
      "\n",
      "Training complete in 9m 35s\n",
      "Best val Acc: 0.480740\n"
     ]
    }
   ],
   "source": [
    "train_model(resnet,\"resnet\", criterion, optimizer, step_lr_scheduler, num_epochs=1)"
   ]
  },
  {
   "cell_type": "markdown",
   "id": "aacd154d-34c2-4ede-83ff-38881b3e3fff",
   "metadata": {},
   "source": [
    "VGG"
   ]
  },
  {
   "cell_type": "code",
   "execution_count": 40,
   "id": "3eab161e-ed07-44a8-b5df-eb469848d5bf",
   "metadata": {},
   "outputs": [],
   "source": [
    "vgg = models.vgg11_bn(pretrained=True)\n",
    "num_ftrs = vgg.classifier[6].in_features\n",
    "vgg.classifier[6] = nn.Linear(num_ftrs,2)\n",
    "\n",
    "vgg = vgg.to(device)\n",
    "criterion = nn.CrossEntropyLoss()\n",
    "\n",
    "# Observe that all parameters are being optimized\n",
    "optimizer = optim.SGD(vgg.parameters(), lr=0.001)\n",
    "\n",
    "step_lr_scheduler = lr_scheduler.StepLR(optimizer, step_size=7, gamma=0.1)"
   ]
  },
  {
   "cell_type": "code",
   "execution_count": 41,
   "id": "8ced6ff5-860c-4526-9ecf-eb080437800b",
   "metadata": {},
   "outputs": [
    {
     "name": "stdout",
     "output_type": "stream",
     "text": [
      "Epoch 0/0\n",
      "----------\n",
      "TRAIN Loss: 0.6951 Acc: 0.5228\n",
      "VAL Loss: 0.6981 Acc: 0.5028\n",
      "\n",
      "Training complete in 16m 23s\n",
      "Best val Acc: 0.502751\n"
     ]
    }
   ],
   "source": [
    "train_model(vgg,\"vgg\", criterion, optimizer, step_lr_scheduler, num_epochs=1)"
   ]
  },
  {
   "cell_type": "markdown",
   "id": "e605ea2d-3dd6-4a9e-b06c-694b24ad0f4f",
   "metadata": {},
   "source": [
    "AlexNet"
   ]
  },
  {
   "cell_type": "code",
   "execution_count": null,
   "id": "f106a273-8207-4eb3-bdaf-eaca6ce46d8b",
   "metadata": {},
   "outputs": [],
   "source": [
    "alexnet = models.alexnet(pretrained=True)\n",
    "num_ftrs = alexnet.classifier[6].in_features\n",
    "alexnet.classifier[6] = nn.Linear(num_ftrs,2)\n",
    "\n",
    "alexnet = alexnet.to(device)\n",
    "criterion = nn.CrossEntropyLoss()\n",
    "\n",
    "# Observe that all parameters are being optimized\n",
    "optimizer = optim.SGD(alexnet.parameters(), lr=0.001)\n",
    "\n",
    "step_lr_scheduler = lr_scheduler.StepLR(optimizer, step_size=7, gamma=0.1)"
   ]
  },
  {
   "cell_type": "code",
   "execution_count": null,
   "id": "857afb7b-bd7c-45c8-83d5-7ff26c959d39",
   "metadata": {},
   "outputs": [],
   "source": [
    "train_model(alexnet ,\"alexnet\", criterion, optimizer, step_lr_scheduler, num_epochs=1)"
   ]
  }
 ],
 "metadata": {
  "kernelspec": {
   "display_name": "Python 3 (ipykernel)",
   "language": "python",
   "name": "python3"
  },
  "language_info": {
   "codemirror_mode": {
    "name": "ipython",
    "version": 3
   },
   "file_extension": ".py",
   "mimetype": "text/x-python",
   "name": "python",
   "nbconvert_exporter": "python",
   "pygments_lexer": "ipython3",
   "version": "3.9.7"
  }
 },
 "nbformat": 4,
 "nbformat_minor": 5
}
